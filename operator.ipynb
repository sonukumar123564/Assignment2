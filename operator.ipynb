{
 "cells": [
  {
   "cell_type": "code",
   "execution_count": 1,
   "id": "f94191af-ee70-4132-9602-05bae2066804",
   "metadata": {},
   "outputs": [
    {
     "name": "stdin",
     "output_type": "stream",
     "text": [
      "Enter the first number 50\n",
      "Enter the second number 20\n"
     ]
    },
    {
     "name": "stdout",
     "output_type": "stream",
     "text": [
      "sum of two number is =   70\n",
      "difference of two number is =   30\n",
      "product of two number is =   1000\n",
      "quotient of two number is =   10\n"
     ]
    }
   ],
   "source": [
    "# Calc$late the sum, difference, product, and quotient of two numbers.\n",
    "num1 = int(input(\"Enter the first number\"))\n",
    "num2 = int(input(\"Enter the second number\"))\n",
    "sum = num1+num2\n",
    "print(\"sum of two number is =  \",sum)\n",
    "difference  = num1-num2\n",
    "print(\"difference of two number is =  \",difference)\n",
    "product = num1*num2\n",
    "print(\"product of two number is =  \",product)\n",
    "quotient  = num1%num2\n",
    "print(\"quotient of two number is =  \",quotient)\n",
    "\n"
   ]
  },
  {
   "cell_type": "code",
   "execution_count": 3,
   "id": "f7831615-4d34-4765-8119-0d9bcba2b670",
   "metadata": {},
   "outputs": [
    {
     "name": "stdout",
     "output_type": "stream",
     "text": [
      "first assignment  operator =  20\n",
      "plush equal to  assignment  operator =  22\n",
      "subtract equal to  assignment  operator =  19\n",
      "multiple equal to  assignment  operator =  40\n",
      "divide equal to  assignment  operator =  10.0\n"
     ]
    }
   ],
   "source": [
    "# Perform various assignment operations on a variable\n",
    "num = 20\n",
    "PE = num+2\n",
    "result = num-1\n",
    "m = num*2\n",
    "d = num/2\n",
    "print(\"first assignment  operator = \",num)\n",
    "print(\"plush equal to  assignment  operator = \",PE)\n",
    "print(\"subtract equal to  assignment  operator = \",result)\n",
    "print(\"multiple equal to  assignment  operator = \",m)\n",
    "print(\"divide equal to  assignment  operator = \",d)\n"
   ]
  },
  {
   "cell_type": "code",
   "execution_count": 4,
   "id": "745ce925-c327-4796-94e1-eb56e5b326bb",
   "metadata": {},
   "outputs": [
    {
     "name": "stdin",
     "output_type": "stream",
     "text": [
      "Enter the first number 12\n",
      "Enter the second number: 19\n"
     ]
    },
    {
     "name": "stdout",
     "output_type": "stream",
     "text": [
      "num1 is greater than num2: False\n",
      "num1 is less than num2: True\n",
      "num1 is greater than and qual- to num2: False\n",
      "num1 is less than  and qual -to num2: True\n",
      "num1 is qual-to num2: False\n",
      "num1 is does not qual-to num2: True\n"
     ]
    }
   ],
   "source": [
    "#Compare two numbers and print the results.\n",
    "num1 = int(input(\"Enter the first number\"))\n",
    "num2 = int(input(\"Enter the second number:\"))\n",
    "result1 = num1>num2\n",
    "result2 = num1<num2\n",
    "result3 = num1>=num2\n",
    "result4 = num1<=num2\n",
    "result5 = num1==num2\n",
    "result6 = num1!=num2\n",
    "print(\"num1 is greater than num2:\", result1)\n",
    "print(\"num1 is less than num2:\", result2)\n",
    "print(\"num1 is greater than and qual- to num2:\", result3)\n",
    "print(\"num1 is less than  and qual -to num2:\", result4)\n",
    "print(\"num1 is qual-to num2:\", result5)\n",
    "print(\"num1 is does not qual-to num2:\", result6)"
   ]
  },
  {
   "cell_type": "code",
   "execution_count": 8,
   "id": "c4c608ad-3077-4d67-8826-709564e977f8",
   "metadata": {},
   "outputs": [
    {
     "name": "stdout",
     "output_type": "stream",
     "text": [
      "first AND logical operator =  True\n",
      "second OR logical operator =  True\n"
     ]
    }
   ],
   "source": [
    "#, Check conditions using logical operators\n",
    "a = 10\n",
    "b = 20\n",
    "c = 30\n",
    "result1  = (a<b) and (b<c)\n",
    "result2  = (a<b) or (b>c)\n",
    "\n",
    "print(\"first AND logical operator = \",result1)\n",
    "print(\"second OR logical operator = \",result2)\n",
    "\n",
    "\n"
   ]
  },
  {
   "cell_type": "code",
   "execution_count": null,
   "id": "e3bea564-c13f-42d6-b0e2-ae6346118cf9",
   "metadata": {},
   "outputs": [],
   "source": []
  },
  {
   "cell_type": "code",
   "execution_count": 9,
   "id": "38689e03-e24a-4707-8603-a58a64998496",
   "metadata": {},
   "outputs": [
    {
     "name": "stdout",
     "output_type": "stream",
     "text": [
      "False\n",
      "True\n"
     ]
    }
   ],
   "source": [
    "#Check the identity of variables.\n",
    "a = [1,2,3]\n",
    "b = [1,2,3]\n",
    "c = a\n",
    "result1 = a is b # false because different object\n",
    "result2 = c is a # True because same object\n",
    "print(result1)\n",
    "print(result2)"
   ]
  },
  {
   "cell_type": "code",
   "execution_count": 13,
   "id": "41d37e9c-e51e-4131-a481-afe422d66cf4",
   "metadata": {},
   "outputs": [
    {
     "name": "stdin",
     "output_type": "stream",
     "text": [
      "Enter the first number: 12\n",
      "Enter the second number: 10\n"
     ]
    },
    {
     "name": "stdout",
     "output_type": "stream",
     "text": [
      "witwie AND  =  8\n",
      "witwie OR  =  6\n",
      "Left_sift  =  12288\n",
      "Right_sift =  0\n"
     ]
    }
   ],
   "source": [
    "#Perform bitwise operations on any two integers.\n",
    "num1 = int(input(\"Enter the first number:\"))\n",
    "num2 = int(input(\"Enter the second number:\"))\n",
    "result1 = num1 & num2\n",
    "result2 = num1 | num2\n",
    "result2 = num1 ^ num2\n",
    "result3 = num1 << num2\n",
    "result4 = num1 >> num2\n",
    "print(\"witwie AND  = \", result1)\n",
    "\n",
    "print(\"witwie OR  = \", result2)\n",
    "\n",
    "print(\"Left_sift  = \", result3)\n",
    "\n",
    "print(\"Right_sift = \", result4)\n",
    "\n"
   ]
  },
  {
   "cell_type": "code",
   "execution_count": 14,
   "id": "9ebe9037-3ac3-4caa-b212-993ae6a6e286",
   "metadata": {},
   "outputs": [
    {
     "name": "stdin",
     "output_type": "stream",
     "text": [
      "Enter the positive number: 12\n"
     ]
    },
    {
     "name": "stdout",
     "output_type": "stream",
     "text": [
      "original number = :  12\n",
      "sing change number  = : -12\n"
     ]
    }
   ],
   "source": [
    "#, Use unary operators to change the sign of a number.\n",
    "number = int(input(\"Enter the positive number:\"))\n",
    "change_sing = -number\n",
    "print(\"original number = : \",number)\n",
    "print(\"sing change number  = :\",change_sing)\n"
   ]
  },
  {
   "cell_type": "code",
   "execution_count": null,
   "id": "bedce295-a5b6-4306-a001-bcac14836e70",
   "metadata": {},
   "outputs": [
    {
     "name": "stdin",
     "output_type": "stream",
     "text": [
      "Enter the fisrt number: 12\n"
     ]
    }
   ],
   "source": [
    "# Use the ternary operator to assign values based on conditions.\n",
    "num1 = int(input(\"Enter the fisrt number:\"))\n",
    "num2 = int(input(\"Enter the second number:\"))\n",
    "result = num1 if num1> num2 else num2\n",
    "print(result)\n"
   ]
  },
  {
   "cell_type": "code",
   "execution_count": null,
   "id": "6d7d30fc-070c-4e67-bf60-6bc9e56ccf45",
   "metadata": {},
   "outputs": [],
   "source": []
  }
 ],
 "metadata": {
  "kernelspec": {
   "display_name": "Python 3 (ipykernel)",
   "language": "python",
   "name": "python3"
  },
  "language_info": {
   "codemirror_mode": {
    "name": "ipython",
    "version": 3
   },
   "file_extension": ".py",
   "mimetype": "text/x-python",
   "name": "python",
   "nbconvert_exporter": "python",
   "pygments_lexer": "ipython3",
   "version": "3.10.8"
  }
 },
 "nbformat": 4,
 "nbformat_minor": 5
}
